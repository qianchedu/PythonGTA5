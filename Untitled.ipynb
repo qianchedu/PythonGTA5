{
 "cells": [
  {
   "cell_type": "code",
   "execution_count": 20,
   "metadata": {},
   "outputs": [
    {
     "name": "stdout",
     "output_type": "stream",
     "text": [
      "4\n",
      "3\n",
      "2\n",
      "1\n",
      "down\n",
      "up\n",
      "down\n",
      "up\n",
      "down\n",
      "up\n",
      "down\n",
      "up\n",
      "down\n",
      "up\n",
      "down\n",
      "up\n",
      "down\n",
      "up\n",
      "down\n",
      "up\n",
      "down\n",
      "up\n"
     ]
    }
   ],
   "source": [
    "#800*600分辨率\n",
    "import numpy as np\n",
    "from PIL import ImageGrab\n",
    "import cv2\n",
    "import time\n",
    "#import pyautogui\n",
    "from directkeys import ReleaseKey,PressKey,W,A,S,D\n",
    "\n",
    "\n",
    "def roi(img,vertices):\n",
    "    mask = np.zeros_like(img)\n",
    "    cv2.fillPoly(mask,vertices,255)\n",
    "    masked = cv2.bitwise_and(img,mask)\n",
    "    \n",
    "\n",
    "def process_img(original_image):\n",
    "    \n",
    "    processed_img = cv2.cvtColor(original_image,cv2.COLOR_BGR2GRAY)\n",
    "    processed_img = cv2.Canny(processed_img,threshold1 = 200,threshold2=300)\n",
    "    return processed_img\n",
    "    \n",
    "  \n",
    "for i in list(range(4))[::-1]:\n",
    "    print(i+1)\n",
    "    time.sleep(1)\n",
    "    \n",
    "    \n",
    "# print('down')\n",
    "# pyautogui.keyDown('w')\n",
    "# time.sleep(3)\n",
    "# print('up')\n",
    "# pyautogui.keyUp('w')  \n",
    "\n",
    "\n",
    "last_time = time.time()\n",
    "while(True):\n",
    "    screen =np.array(ImageGrab.grab(bbox=(0,40,800,640)))\n",
    "    new_screen = process_img(screen)\n",
    "    \n",
    "    \n",
    "    print('down')\n",
    "    PressKey(W)\n",
    "    time.sleep(3)\n",
    "    print('up')\n",
    "    ReleaseKey(W)\n",
    "    #printscreen_numpy = np.array(printscreen_pil.getdata(),dtype='uint8')\n",
    "\n",
    "  #  print('look took {} seconds'.format(time.time() - last_time))\n",
    "    last_time = time.time()\n",
    "    #cv2.imshow('window',np.array(printscreen_pil))\n",
    "    cv2.imshow('window',new_screen)\n",
    "    \n",
    "    if cv2.waitKey(25) & 0xFF == ord('q'):\n",
    "        cv2.destroyAllWindows()\n",
    "        break\n",
    "    "
   ]
  },
  {
   "cell_type": "code",
   "execution_count": null,
   "metadata": {},
   "outputs": [],
   "source": []
  }
 ],
 "metadata": {
  "kernelspec": {
   "display_name": "Python 3",
   "language": "python",
   "name": "python3"
  },
  "language_info": {
   "codemirror_mode": {
    "name": "ipython",
    "version": 3
   },
   "file_extension": ".py",
   "mimetype": "text/x-python",
   "name": "python",
   "nbconvert_exporter": "python",
   "pygments_lexer": "ipython3",
   "version": "3.7.3"
  }
 },
 "nbformat": 4,
 "nbformat_minor": 2
}
